{
  "nbformat": 4,
  "nbformat_minor": 0,
  "metadata": {
    "colab": {
      "provenance": []
    },
    "kernelspec": {
      "name": "python3",
      "display_name": "Python 3"
    },
    "language_info": {
      "name": "python"
    }
  },
  "cells": [
    {
      "cell_type": "markdown",
      "source": [
        "# Práctica #4 - Regresión polinomial y Regularización\n",
        "\n",
        "Profesor: Luis Norberto Zúñiga Morales, Universidad Iberoamericana Ciudad de México\n",
        "\n",
        "Instrucciones:\n",
        "\n",
        "- Realizar cada una de las actividades propuestas en este libro de Google Colab.\n",
        "- Se puede realizar en equipos de 2 personas.\n",
        "- Para la entrega de sus respuestas, es importante que la celda en cuestión se encuentre ejecutada para mostrar su resultados.\n",
        "- Descargar su libro con terminación IPYNB y subirlo en la actividad correspondiente de Brigthspace.\n"
      ],
      "metadata": {
        "id": "4UTOfZct4FH_"
      }
    },
    {
      "cell_type": "markdown",
      "source": [
        "## Código"
      ],
      "metadata": {
        "id": "WfauywA80Zk-"
      }
    },
    {
      "cell_type": "code",
      "execution_count": 64,
      "metadata": {
        "id": "hiP9hgU1u8Fv"
      },
      "outputs": [],
      "source": [
        "# librerias para implementar los modelos de ML\n",
        "from sklearn.linear_model import Ridge, LinearRegression\n",
        "from sklearn.preprocessing import PolynomialFeatures\n",
        "from sklearn.metrics import mean_squared_error\n",
        "from sklearn.model_selection import train_test_split\n",
        "\n",
        "# librerias auxiliares\n",
        "import numpy as np\n",
        "import matplotlib.pyplot as plt"
      ]
    },
    {
      "cell_type": "markdown",
      "source": [
        "Recuerden que la regresión polinomial en una variable puede tener la forma:\n",
        "$$y = \\theta_0 + \\theta_1 x + \\theta_2 x^2 +...+\\theta_nx^n  $$"
      ],
      "metadata": {
        "id": "4VOqjLxMCwPH"
      }
    },
    {
      "cell_type": "markdown",
      "source": [
        "El objetivo de esta práctica es utilizar regresión polinomial en scikit-learn para entrenar un modelo que permita predecir los valores de la siguiente función:\n",
        "\n",
        "$$f(x) = 1 + x +2x^2 + 3x^3$$\n",
        "\n",
        "Vamos a empezar generando los datos de la función:\n",
        "\n",
        "-  El vector de características `X`, en este caso en una dimensión, serían los valores de $x$ que se alimentan a la función $f(x)$, que en este caso limitamos a las $x$ entre -10 y 10.\n",
        "- Los valores de la función $f(x)$ que adoptan en cada valor de $x$ serán nuestro vector de valores `y` asociados a cada dato del conjunto de datos."
      ],
      "metadata": {
        "id": "hw8R3dFBCAEE"
      }
    },
    {
      "cell_type": "code",
      "source": [
        "X = np.arange(-10,10.2,0.2)\n",
        "y = 1+X+2*X**2+3*X**3 # x"
      ],
      "metadata": {
        "id": "mfjNl_7Lv2aZ"
      },
      "execution_count": 65,
      "outputs": []
    },
    {
      "cell_type": "markdown",
      "source": [
        "Una gráfica para ver la función:"
      ],
      "metadata": {
        "id": "fUFS5Bq6DBeh"
      }
    },
    {
      "cell_type": "code",
      "source": [
        "plt.plot(X,y)\n",
        "plt.show()"
      ],
      "metadata": {
        "id": "2ZzW0Ja30rSc",
        "colab": {
          "base_uri": "https://localhost:8080/",
          "height": 451
        },
        "outputId": "d40f3060-fe51-4e0a-f5f2-c5925d50fd93"
      },
      "execution_count": 66,
      "outputs": [
        {
          "output_type": "display_data",
          "data": {
            "text/plain": [
              "<Figure size 640x480 with 1 Axes>"
            ],
            "image/png": "[encoded data removed]"
          },
          "metadata": {}
        }
      ]
    },
    {
      "cell_type": "markdown",
      "source": [
        "Vamos a definir el modelo polinomial con la función `PolynomialFeatures`. De [su documentación](https://scikit-learn.org/stable/modules/generated/sklearn.preprocessing.PolynomialFeatures.html?highlight=polynomialfeatures#sklearn.preprocessing.PolynomialFeatures) en scikit learn:\n",
        "\n",
        "\n",
        "> Generate a new feature matrix consisting of all polynomial combinations of the features with degree less than or equal to the specified degree. For example, if an input sample is two dimensional and of the form [a, b], the degree-2 polynomial features are [1, a, b, a^2, ab, b^2].\n",
        "\n",
        "\n",
        "Creamos la instancia del transformador, y después *ajustamos* con los datos de entrenamiento y *transformamos* TODOS los datos, es decir, los de prueba y entrenamiento. Noten que para que `PolynomialFeatures` funcione, este espear un arrego de dos dimensiones, por lo que debemos transformar los datos primero."
      ],
      "metadata": {
        "id": "mZynS--hD7Yh"
      }
    },
    {
      "cell_type": "markdown",
      "source": [
        "Iniciamos separando nuestros datos en dos conjuntos de prueba y entrenamiento especificando una semilla para generar las mismas particiones en cada experimento y así poder comparar los resultados obtenidos:"
      ],
      "metadata": {
        "id": "bnNz3Fur_u_r"
      }
    },
    {
      "cell_type": "code",
      "source": [
        "X_train, X_test, y_train, y_test = train_test_split(X,\n",
        "                                                    y,\n",
        "                                                    test_size=0.25,\n",
        "                                                    random_state=42)"
      ],
      "metadata": {
        "id": "xqhjbc-rBcid"
      },
      "execution_count": 67,
      "outputs": []
    },
    {
      "cell_type": "markdown",
      "source": [
        "Antes de continuar, vamos a observar cual es la forma del conjunto `X_train`:"
      ],
      "metadata": {
        "id": "nknri2wu_4UB"
      }
    },
    {
      "cell_type": "code",
      "source": [
        "X_train.shape"
      ],
      "metadata": {
        "colab": {
          "base_uri": "https://localhost:8080/"
        },
        "id": "dF1TWO2a-T8P",
        "outputId": "96feabf8-13a1-41bb-9836-927461cb597a"
      },
      "execution_count": 68,
      "outputs": [
        {
          "output_type": "execute_result",
          "data": {
            "text/plain": [
              "(75,)"
            ]
          },
          "metadata": {},
          "execution_count": 68
        }
      ]
    },
    {
      "cell_type": "markdown",
      "source": [
        "De lo anterior se puede observar que es un arreglo en una dimensión. Por lo que se mencionó anteriormente, esto nos generará problemas, por lo que vamos a transformarlo en una matriz de una sola columna:"
      ],
      "metadata": {
        "id": "aGKgejvp_-fK"
      }
    },
    {
      "cell_type": "code",
      "source": [
        "X_train.reshape(-1,1)"
      ],
      "metadata": {
        "id": "bSV_9n7w-V15"
      },
      "execution_count": null,
      "outputs": []
    },
    {
      "cell_type": "code",
      "source": [
        "X_train.reshape(-1,1).shape"
      ],
      "metadata": {
        "colab": {
          "base_uri": "https://localhost:8080/"
        },
        "id": "Zo8Q9iwi_UQk",
        "outputId": "dbd4c426-c827-4ed7-e174-266685170630"
      },
      "execution_count": 70,
      "outputs": [
        {
          "output_type": "execute_result",
          "data": {
            "text/plain": [
              "(75, 1)"
            ]
          },
          "metadata": {},
          "execution_count": 70
        }
      ]
    },
    {
      "cell_type": "markdown",
      "source": [
        "Declaramos la instancia de nuestro generador de características:"
      ],
      "metadata": {
        "id": "047kn_ug99Yz"
      }
    },
    {
      "cell_type": "code",
      "source": [
        "poly = PolynomialFeatures(degree=3, include_bias=True)"
      ],
      "metadata": {
        "id": "5IbiOKVF1CFv"
      },
      "execution_count": 71,
      "outputs": []
    },
    {
      "cell_type": "markdown",
      "source": [
        "  Ajustamos el generador de características con `X_train:"
      ],
      "metadata": {
        "id": "2uFJkFveEeFH"
      }
    },
    {
      "cell_type": "code",
      "source": [
        "poly.fit(X_train.reshape(-1, 1))"
      ],
      "metadata": {
        "colab": {
          "base_uri": "https://localhost:8080/",
          "height": 93
        },
        "id": "NHHDWWkXFYXv",
        "outputId": "9ae755c7-1ace-4cd5-c428-94e72d9f7301"
      },
      "execution_count": 73,
      "outputs": [
        {
          "output_type": "execute_result",
          "data": {
            "text/plain": [
              "PolynomialFeatures(degree=3)"
            ],
            "text/html": [
              "<style>#sk-container-id-11 {color: black;background-color: white;}#sk-container-id-11 pre{padding: 0;}#sk-container-id-11 div.sk-toggleable {background-color: white;}#sk-container-id-11 label.sk-toggleable__label {cursor: pointer;display: block;width: 100%;margin-bottom: 0;padding: 0.3em;box-sizing: border-box;text-align: center;}#sk-container-id-11 label.sk-toggleable__label-arrow:before {content: \"▸\";float: left;margin-right: 0.25em;color: #696969;}#sk-container-id-11 label.sk-toggleable__label-arrow:hover:before {color: black;}#sk-container-id-11 div.sk-estimator:hover label.sk-toggleable__label-arrow:before {color: black;}#sk-container-id-11 div.sk-toggleable__content {max-height: 0;max-width: 0;overflow: hidden;text-align: left;background-color: #f0f8ff;}#sk-container-id-11 div.sk-toggleable__content pre {margin: 0.2em;color: black;border-radius: 0.25em;background-color: #f0f8ff;}#sk-container-id-11 input.sk-toggleable__control:checked~div.sk-toggleable__content {max-height: 200px;max-width: 100%;overflow: auto;}#sk-container-id-11 input.sk-toggleable__control:checked~label.sk-toggleable__label-arrow:before {content: \"▾\";}#sk-container-id-11 div.sk-estimator input.sk-toggleable__control:checked~label.sk-toggleable__label {background-color: #d4ebff;}#sk-container-id-11 div.sk-label input.sk-toggleable__control:checked~label.sk-toggleable__label {background-color: #d4ebff;}#sk-container-id-11 input.sk-hidden--visually {border: 0;clip: rect(1px 1px 1px 1px);clip: rect(1px, 1px, 1px, 1px);height: 1px;margin: -1px;overflow: hidden;padding: 0;position: absolute;width: 1px;}#sk-container-id-11 div.sk-estimator {font-family: monospace;background-color: #f0f8ff;border: 1px dotted black;border-radius: 0.25em;box-sizing: border-box;margin-bottom: 0.5em;}#sk-container-id-11 div.sk-estimator:hover {background-color: #d4ebff;}#sk-container-id-11 div.sk-parallel-item::after {content: \"\";width: 100%;border-bottom: 1px solid gray;flex-grow: 1;}#sk-container-id-11 div.sk-label:hover label.sk-toggleable__label {background-color: #d4ebff;}#sk-container-id-11 div.sk-serial::before {content: \"\";position: absolute;border-left: 1px solid gray;box-sizing: border-box;top: 0;bottom: 0;left: 50%;z-index: 0;}#sk-container-id-11 div.sk-serial {display: flex;flex-direction: column;align-items: center;background-color: white;padding-right: 0.2em;padding-left: 0.2em;position: relative;}#sk-container-id-11 div.sk-item {position: relative;z-index: 1;}#sk-container-id-11 div.sk-parallel {display: flex;align-items: stretch;justify-content: center;background-color: white;position: relative;}#sk-container-id-11 div.sk-item::before, #sk-container-id-11 div.sk-parallel-item::before {content: \"\";position: absolute;border-left: 1px solid gray;box-sizing: border-box;top: 0;bottom: 0;left: 50%;z-index: -1;}#sk-container-id-11 div.sk-parallel-item {display: flex;flex-direction: column;z-index: 1;position: relative;background-color: white;}#sk-container-id-11 div.sk-parallel-item:first-child::after {align-self: flex-end;width: 50%;}#sk-container-id-11 div.sk-parallel-item:last-child::after {align-self: flex-start;width: 50%;}#sk-container-id-11 div.sk-parallel-item:only-child::after {width: 0;}#sk-container-id-11 div.sk-dashed-wrapped {border: 1px dashed gray;margin: 0 0.4em 0.5em 0.4em;box-sizing: border-box;padding-bottom: 0.4em;background-color: white;}#sk-container-id-11 div.sk-label label {font-family: monospace;font-weight: bold;display: inline-block;line-height: 1.2em;}#sk-container-id-11 div.sk-label-container {text-align: center;}#sk-container-id-11 div.sk-container {/* jupyter's `normalize.less` sets `[hidden] { display: none; }` but bootstrap.min.css set `[hidden] { display: none !important; }` so we also need the `!important` here to be able to override the default hidden behavior on the sphinx rendered scikit-learn.org. See: https://github.com/scikit-learn/scikit-learn/issues/21755 */display: inline-block !important;position: relative;}#sk-container-id-11 div.sk-text-repr-fallback {display: none;}</style><div id=\"sk-container-id-11\" class=\"sk-top-container\"><div class=\"sk-text-repr-fallback\"><pre>PolynomialFeatures(degree=3)</pre><b>In a Jupyter environment, please rerun this cell to show the HTML representation or trust the notebook. <br />On GitHub, the HTML representation is unable to render, please try loading this page with nbviewer.org.</b></div><div class=\"sk-container\" hidden><div class=\"sk-item\"><div class=\"sk-estimator sk-toggleable\"><input class=\"sk-toggleable__control sk-hidden--visually\" id=\"sk-estimator-id-11\" type=\"checkbox\" checked><label for=\"sk-estimator-id-11\" class=\"sk-toggleable__label sk-toggleable__label-arrow\">PolynomialFeatures</label><div class=\"sk-toggleable__content\"><pre>PolynomialFeatures(degree=3)</pre></div></div></div></div></div>"
            ]
          },
          "metadata": {},
          "execution_count": 73
        }
      ]
    },
    {
      "cell_type": "markdown",
      "source": [
        "Transformamos los datos en `X_train` con el generador ajustado:"
      ],
      "metadata": {
        "id": "mwRxH8KxEl73"
      }
    },
    {
      "cell_type": "code",
      "source": [
        "poly.transform(X_train.reshape(-1, 1))"
      ],
      "metadata": {
        "id": "1kNk3kX_Fcr5"
      },
      "execution_count": null,
      "outputs": []
    },
    {
      "cell_type": "markdown",
      "source": [
        "Hacemos lo anterior para los conjuntos `X_train` y `X_test`:"
      ],
      "metadata": {
        "id": "WLxsxu_IEsLZ"
      }
    },
    {
      "cell_type": "code",
      "source": [
        "poly_features_train = poly.transform(X_train.reshape(-1, 1))"
      ],
      "metadata": {
        "id": "aRchANzr1OQE"
      },
      "execution_count": 76,
      "outputs": []
    },
    {
      "cell_type": "code",
      "source": [
        "poly_features_test = poly.transform(X_test.reshape(-1, 1))"
      ],
      "metadata": {
        "id": "iEkioU8HEvD0"
      },
      "execution_count": 77,
      "outputs": []
    },
    {
      "cell_type": "markdown",
      "source": [
        "Ahora, vamos a declarar nuestro modelo de regresión simple para después entrenarlo:"
      ],
      "metadata": {
        "id": "I5TtW0lVFKEU"
      }
    },
    {
      "cell_type": "code",
      "source": [
        "poly_reg_model = LinearRegression()"
      ],
      "metadata": {
        "id": "7Rf38Of02WKD"
      },
      "execution_count": 78,
      "outputs": []
    },
    {
      "cell_type": "markdown",
      "source": [
        "Entrenamos el modelo con nuestros datos transformados `poly_features_train`:"
      ],
      "metadata": {
        "id": "I27erUTMAmkN"
      }
    },
    {
      "cell_type": "code",
      "source": [
        "poly_reg_model.fit(poly_features_train, y_train)"
      ],
      "metadata": {
        "colab": {
          "base_uri": "https://localhost:8080/",
          "height": 93
        },
        "id": "c0WhaCOsABRE",
        "outputId": "05326832-31a2-4305-9d9a-fb935c41e5c6"
      },
      "execution_count": 79,
      "outputs": [
        {
          "output_type": "execute_result",
          "data": {
            "text/plain": [
              "LinearRegression()"
            ],
            "text/html": [
              "<style>#sk-container-id-12 {color: black;background-color: white;}#sk-container-id-12 pre{padding: 0;}#sk-container-id-12 div.sk-toggleable {background-color: white;}#sk-container-id-12 label.sk-toggleable__label {cursor: pointer;display: block;width: 100%;margin-bottom: 0;padding: 0.3em;box-sizing: border-box;text-align: center;}#sk-container-id-12 label.sk-toggleable__label-arrow:before {content: \"▸\";float: left;margin-right: 0.25em;color: #696969;}#sk-container-id-12 label.sk-toggleable__label-arrow:hover:before {color: black;}#sk-container-id-12 div.sk-estimator:hover label.sk-toggleable__label-arrow:before {color: black;}#sk-container-id-12 div.sk-toggleable__content {max-height: 0;max-width: 0;overflow: hidden;text-align: left;background-color: #f0f8ff;}#sk-container-id-12 div.sk-toggleable__content pre {margin: 0.2em;color: black;border-radius: 0.25em;background-color: #f0f8ff;}#sk-container-id-12 input.sk-toggleable__control:checked~div.sk-toggleable__content {max-height: 200px;max-width: 100%;overflow: auto;}#sk-container-id-12 input.sk-toggleable__control:checked~label.sk-toggleable__label-arrow:before {content: \"▾\";}#sk-container-id-12 div.sk-estimator input.sk-toggleable__control:checked~label.sk-toggleable__label {background-color: #d4ebff;}#sk-container-id-12 div.sk-label input.sk-toggleable__control:checked~label.sk-toggleable__label {background-color: #d4ebff;}#sk-container-id-12 input.sk-hidden--visually {border: 0;clip: rect(1px 1px 1px 1px);clip: rect(1px, 1px, 1px, 1px);height: 1px;margin: -1px;overflow: hidden;padding: 0;position: absolute;width: 1px;}#sk-container-id-12 div.sk-estimator {font-family: monospace;background-color: #f0f8ff;border: 1px dotted black;border-radius: 0.25em;box-sizing: border-box;margin-bottom: 0.5em;}#sk-container-id-12 div.sk-estimator:hover {background-color: #d4ebff;}#sk-container-id-12 div.sk-parallel-item::after {content: \"\";width: 100%;border-bottom: 1px solid gray;flex-grow: 1;}#sk-container-id-12 div.sk-label:hover label.sk-toggleable__label {background-color: #d4ebff;}#sk-container-id-12 div.sk-serial::before {content: \"\";position: absolute;border-left: 1px solid gray;box-sizing: border-box;top: 0;bottom: 0;left: 50%;z-index: 0;}#sk-container-id-12 div.sk-serial {display: flex;flex-direction: column;align-items: center;background-color: white;padding-right: 0.2em;padding-left: 0.2em;position: relative;}#sk-container-id-12 div.sk-item {position: relative;z-index: 1;}#sk-container-id-12 div.sk-parallel {display: flex;align-items: stretch;justify-content: center;background-color: white;position: relative;}#sk-container-id-12 div.sk-item::before, #sk-container-id-12 div.sk-parallel-item::before {content: \"\";position: absolute;border-left: 1px solid gray;box-sizing: border-box;top: 0;bottom: 0;left: 50%;z-index: -1;}#sk-container-id-12 div.sk-parallel-item {display: flex;flex-direction: column;z-index: 1;position: relative;background-color: white;}#sk-container-id-12 div.sk-parallel-item:first-child::after {align-self: flex-end;width: 50%;}#sk-container-id-12 div.sk-parallel-item:last-child::after {align-self: flex-start;width: 50%;}#sk-container-id-12 div.sk-parallel-item:only-child::after {width: 0;}#sk-container-id-12 div.sk-dashed-wrapped {border: 1px dashed gray;margin: 0 0.4em 0.5em 0.4em;box-sizing: border-box;padding-bottom: 0.4em;background-color: white;}#sk-container-id-12 div.sk-label label {font-family: monospace;font-weight: bold;display: inline-block;line-height: 1.2em;}#sk-container-id-12 div.sk-label-container {text-align: center;}#sk-container-id-12 div.sk-container {/* jupyter's `normalize.less` sets `[hidden] { display: none; }` but bootstrap.min.css set `[hidden] { display: none !important; }` so we also need the `!important` here to be able to override the default hidden behavior on the sphinx rendered scikit-learn.org. See: https://github.com/scikit-learn/scikit-learn/issues/21755 */display: inline-block !important;position: relative;}#sk-container-id-12 div.sk-text-repr-fallback {display: none;}</style><div id=\"sk-container-id-12\" class=\"sk-top-container\"><div class=\"sk-text-repr-fallback\"><pre>LinearRegression()</pre><b>In a Jupyter environment, please rerun this cell to show the HTML representation or trust the notebook. <br />On GitHub, the HTML representation is unable to render, please try loading this page with nbviewer.org.</b></div><div class=\"sk-container\" hidden><div class=\"sk-item\"><div class=\"sk-estimator sk-toggleable\"><input class=\"sk-toggleable__control sk-hidden--visually\" id=\"sk-estimator-id-12\" type=\"checkbox\" checked><label for=\"sk-estimator-id-12\" class=\"sk-toggleable__label sk-toggleable__label-arrow\">LinearRegression</label><div class=\"sk-toggleable__content\"><pre>LinearRegression()</pre></div></div></div></div></div>"
            ]
          },
          "metadata": {},
          "execution_count": 79
        }
      ]
    },
    {
      "cell_type": "markdown",
      "source": [
        "Una vez entrenado el modelo, procedemos a calcular las predicciones `y_pred` utilizando los datos del conjunto de prueba transformado `poly_features_test`:"
      ],
      "metadata": {
        "id": "BqEya3wIAr70"
      }
    },
    {
      "cell_type": "code",
      "source": [
        "y_pred = poly_reg_model.predict(poly_features_test)\n",
        "y_pred"
      ],
      "metadata": {
        "id": "sTVOd8I4AGGe",
        "colab": {
          "base_uri": "https://localhost:8080/"
        },
        "outputId": "65e2a998-c320-4aad-e9f7-7e664f6d7399"
      },
      "execution_count": 80,
      "outputs": [
        {
          "output_type": "execute_result",
          "data": {
            "text/plain": [
              "array([ 1.043576e+03,  7.000000e+00,  1.229840e+02,  1.454320e+02,\n",
              "       -1.000000e+00, -2.346400e+01, -4.687280e+02, -2.504000e+00,\n",
              "       -1.415000e+03, -2.809000e+03, -7.099120e+02, -1.630000e+02,\n",
              "        2.678872e+03, -9.719200e+01,  5.371120e+02, -2.174984e+03,\n",
              "        2.065688e+03,  5.961680e+02, -1.208008e+03, -1.385360e+02,\n",
              "        4.821040e+02,  1.554136e+03, -2.894960e+02, -7.768000e+00,\n",
              "        2.290000e+02, -9.370000e+02])"
            ]
          },
          "metadata": {},
          "execution_count": 80
        }
      ]
    },
    {
      "cell_type": "markdown",
      "source": [
        "Evaluamos el modelo entrenado con el error cuadrático medio:"
      ],
      "metadata": {
        "id": "rQkF_hoXA--8"
      }
    },
    {
      "cell_type": "code",
      "source": [
        "error = mean_squared_error(y_test, y_pred)\n",
        "error"
      ],
      "metadata": {
        "colab": {
          "base_uri": "https://localhost:8080/"
        },
        "id": "1H-Jef4ABOpn",
        "outputId": "de996731-e31f-4e21-fe36-f6a6afa36055"
      },
      "execution_count": 57,
      "outputs": [
        {
          "output_type": "execute_result",
          "data": {
            "text/plain": [
              "1.355805604598068e-25"
            ]
          },
          "metadata": {},
          "execution_count": 57
        }
      ]
    },
    {
      "cell_type": "markdown",
      "source": [
        "Vamos a graficar las predicciones que realizó el modelo contra la gráfica original:"
      ],
      "metadata": {
        "id": "RTQIambmBEnP"
      }
    },
    {
      "cell_type": "code",
      "source": [
        "plt.figure(figsize=(10, 6))\n",
        "plt.title(\"Regresión Polinomial\", size=16)\n",
        "plt.scatter(X_test, y_test, marker='^', label='Modelo original')\n",
        "plt.scatter(X_test, y_pred, marker='o', label='Predicciones')\n",
        "plt.legend()\n",
        "plt.show()"
      ],
      "metadata": {
        "colab": {
          "base_uri": "https://localhost:8080/",
          "height": 569
        },
        "id": "-mWM3lbYALSk",
        "outputId": "653930af-6485-44e6-bf2e-62b652216715"
      },
      "execution_count": 82,
      "outputs": [
        {
          "output_type": "display_data",
          "data": {
            "text/plain": [
              "<Figure size 1000x600 with 1 Axes>"
            ],
            "image/png": "[encoded data removed]"
          },
          "metadata": {}
        }
      ]
    },
    {
      "cell_type": "markdown",
      "source": [
        "## Actividades"
      ],
      "metadata": {
        "id": "A9je0vqj0V1-"
      }
    },
    {
      "cell_type": "markdown",
      "source": [
        "**Actividad #1** *(4 puntos)*: Dibujar la gráfica del Error Cuadrático Medio generado al iterar el grado $d$ del polinomio entre 1 y 10. Obtener los valores de $\\theta$ que determina el modelo de regresión polinomial para cada valor de $d$.\n",
        "\n",
        "*Pista*: Junten todo en un ciclo for que vaya desde 1 hasta 10 y el valor del ECM guárdenlo en una lista, que será la que utilizarán para graficar el ECM vs $d$."
      ],
      "metadata": {
        "id": "jYbt39BAGKX-"
      }
    },
    {
      "cell_type": "markdown",
      "source": [
        "**Actividad #2** *(4 puntos)*: En lugar de usar regresión lineal, utilizen regresión [Ridge](https://scikit-learn.org/stable/modules/generated/sklearn.linear_model.Ridge.html) en scikit learn, y obtengan lo que se pide en la actividad 1."
      ],
      "metadata": {
        "id": "oHZcK24lGkHq"
      }
    },
    {
      "cell_type": "markdown",
      "source": [
        "**Actividad #3** *(2 puntos)*: De las gráficas anteriores, ¿cual sería el valor óptimo (a ojo de buen cubero) para $d$? ¿Notan alguna diferencia entre ambos modelos de regresión?"
      ],
      "metadata": {
        "id": "btf2GkfezTza"
      }
    }
  ]
}